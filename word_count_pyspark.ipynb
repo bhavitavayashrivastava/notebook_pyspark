{
 "cells": [
  {
   "cell_type": "code",
   "execution_count": 2,
   "id": "8a779e2b",
   "metadata": {},
   "outputs": [
    {
     "name": "stderr",
     "output_type": "stream",
     "text": [
      "22/02/01 01:29:43 WARN Utils: Your hostname, L-SFF20SG3QN-M resolves to a loopback address: 127.0.0.1; using 192.168.29.135 instead (on interface en0)\n",
      "22/02/01 01:29:43 WARN Utils: Set SPARK_LOCAL_IP if you need to bind to another address\n",
      "Using Spark's default log4j profile: org/apache/spark/log4j-defaults.properties\n",
      "Setting default log level to \"WARN\".\n",
      "To adjust logging level use sc.setLogLevel(newLevel). For SparkR, use setLogLevel(newLevel).\n",
      "22/02/01 01:29:44 WARN NativeCodeLoader: Unable to load native-hadoop library for your platform... using builtin-java classes where applicable\n",
      "22/02/01 01:29:45 WARN Utils: Service 'SparkUI' could not bind on port 4040. Attempting port 4041.\n"
     ]
    }
   ],
   "source": [
    "import findspark\n",
    "import pyspark\n",
    "findspark.init()\n",
    "from pyspark import SparkContext,SparkConf\n",
    "from pyspark.sql import SparkSession\n",
    "conf = pyspark.SparkConf().setAppName('WordCount').setMaster('local')\n",
    "sc = pyspark.SparkContext(conf=conf)\n",
    "spark = SparkSession(sc)"
   ]
  },
  {
   "cell_type": "code",
   "execution_count": 3,
   "id": "becd6079",
   "metadata": {},
   "outputs": [],
   "source": [
    " flistRDD = sc.textFile(\"/Users/bhavitavaya/Documents/flist.txt\")"
   ]
  },
  {
   "cell_type": "code",
   "execution_count": 4,
   "id": "c6063a5f",
   "metadata": {},
   "outputs": [
    {
     "data": {
      "text/plain": [
       "pyspark.rdd.RDD"
      ]
     },
     "execution_count": 4,
     "metadata": {},
     "output_type": "execute_result"
    }
   ],
   "source": [
    "type(flistRDD)"
   ]
  },
  {
   "cell_type": "code",
   "execution_count": 6,
   "id": "340ba485",
   "metadata": {},
   "outputs": [],
   "source": [
    "flistflatMap = flistRDD.flatMap(lambda x: x.split(\"/\"))"
   ]
  },
  {
   "cell_type": "code",
   "execution_count": 8,
   "id": "ac3e5bf2",
   "metadata": {},
   "outputs": [
    {
     "data": {
      "text/plain": [
       "['/usr/local/opt',\n",
       " '/usr/local/opt/msodbcsql',\n",
       " '/usr/local/opt/pkg-config',\n",
       " '/usr/local/opt/tree',\n",
       " '/usr/local/opt/libtool',\n",
       " '/usr/local/opt/mongodb-community@4.0',\n",
       " '/usr/local/opt/wget',\n",
       " '/usr/local/opt/java11',\n",
       " '/usr/local/opt/nodejs',\n",
       " '/usr/local/opt/git-gui']"
      ]
     },
     "execution_count": 8,
     "metadata": {},
     "output_type": "execute_result"
    }
   ],
   "source": [
    "flistRDD.take(10)"
   ]
  },
  {
   "cell_type": "code",
   "execution_count": 9,
   "id": "d86a7917",
   "metadata": {},
   "outputs": [],
   "source": [
    "flistmap = flistflatMap.map(lambda word: (word,1))"
   ]
  },
  {
   "cell_type": "code",
   "execution_count": 10,
   "id": "e8361444",
   "metadata": {},
   "outputs": [
    {
     "data": {
      "text/plain": [
       "[('', 1),\n",
       " ('usr', 1),\n",
       " ('local', 1),\n",
       " ('opt', 1),\n",
       " ('', 1),\n",
       " ('usr', 1),\n",
       " ('local', 1),\n",
       " ('opt', 1),\n",
       " ('msodbcsql', 1),\n",
       " ('', 1)]"
      ]
     },
     "execution_count": 10,
     "metadata": {},
     "output_type": "execute_result"
    }
   ],
   "source": [
    "flistmap.take(10)"
   ]
  },
  {
   "cell_type": "code",
   "execution_count": 12,
   "id": "d5f189c8",
   "metadata": {},
   "outputs": [],
   "source": [
    "flistrbk = flistmap.reduceByKey(lambda x,y:x+y)"
   ]
  },
  {
   "cell_type": "code",
   "execution_count": 15,
   "id": "d4baac51",
   "metadata": {},
   "outputs": [
    {
     "data": {
      "text/plain": [
       "[('', 94),\n",
       " ('usr', 94),\n",
       " ('local', 94),\n",
       " ('opt', 94),\n",
       " ('msodbcsql', 1),\n",
       " ('pkg-config', 1),\n",
       " ('tree', 1),\n",
       " ('libtool', 1),\n",
       " ('mongodb-community@4.0', 1),\n",
       " ('wget', 1),\n",
       " ('java11', 1),\n",
       " ('nodejs', 1),\n",
       " ('git-gui', 1),\n",
       " ('libidn2', 1),\n",
       " ('maven@3.6', 1),\n",
       " ('helm@3', 1),\n",
       " ('mssql-tools@17.3', 1),\n",
       " ('pkgconfig', 1),\n",
       " ('azure-functions-core-tools', 1),\n",
       " ('cf-cli', 1),\n",
       " ('azure-cli', 1),\n",
       " ('swig', 1),\n",
       " ('ncurses', 1),\n",
       " ('python3', 1),\n",
       " ('gdbm', 1),\n",
       " ('mpdecimal', 1),\n",
       " ('python@3', 1),\n",
       " ('bash-completion@1', 1),\n",
       " ('cmake', 1),\n",
       " ('libuv', 1),\n",
       " ('python', 1),\n",
       " ('libunistring', 1),\n",
       " ('pcre1', 1),\n",
       " ('openjdk@11', 1),\n",
       " ('brotli', 1),\n",
       " ('maven', 1),\n",
       " ('icu4c', 1),\n",
       " ('readline', 1),\n",
       " ('libmpdec', 1),\n",
       " ('java', 1),\n",
       " ('sqlite', 1),\n",
       " ('c-ares', 1),\n",
       " ('autoconf@2.71', 1),\n",
       " ('xz', 1),\n",
       " ('unixodbc', 1),\n",
       " ('libnghttp2', 1),\n",
       " ('sbt@1', 1),\n",
       " ('msodbcsql@13.1', 1),\n",
       " ('gradle', 1),\n",
       " ('swig@4.0', 1)]"
      ]
     },
     "execution_count": 15,
     "metadata": {},
     "output_type": "execute_result"
    }
   ],
   "source": [
    "flistrbk.take(50)"
   ]
  },
  {
   "cell_type": "code",
   "execution_count": null,
   "id": "837c497b",
   "metadata": {},
   "outputs": [],
   "source": []
  }
 ],
 "metadata": {
  "kernelspec": {
   "display_name": "Python 3 (ipykernel)",
   "language": "python",
   "name": "python3"
  },
  "language_info": {
   "codemirror_mode": {
    "name": "ipython",
    "version": 3
   },
   "file_extension": ".py",
   "mimetype": "text/x-python",
   "name": "python",
   "nbconvert_exporter": "python",
   "pygments_lexer": "ipython3",
   "version": "3.7.12"
  }
 },
 "nbformat": 4,
 "nbformat_minor": 5
}
